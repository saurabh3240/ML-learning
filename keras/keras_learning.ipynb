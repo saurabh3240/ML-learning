{
 "cells": [
  {
   "cell_type": "markdown",
   "metadata": {},
   "source": [
    "# First Sequential model with keras"
   ]
  },
  {
   "cell_type": "code",
   "execution_count": 1,
   "metadata": {},
   "outputs": [
    {
     "name": "stdout",
     "output_type": "stream",
     "text": [
      "[name: \"/device:CPU:0\"\n",
      "device_type: \"CPU\"\n",
      "memory_limit: 268435456\n",
      "locality {\n",
      "}\n",
      "incarnation: 15424784404452154671\n",
      ", name: \"/device:GPU:0\"\n",
      "device_type: \"GPU\"\n",
      "memory_limit: 3230918246\n",
      "locality {\n",
      "  bus_id: 1\n",
      "  links {\n",
      "  }\n",
      "}\n",
      "incarnation: 17070374930664074586\n",
      "physical_device_desc: \"device: 0, name: GeForce 840M, pci bus id: 0000:03:00.0, compute capability: 5.0\"\n",
      "]\n"
     ]
    }
   ],
   "source": [
    "from tensorflow.python.client import device_lib\n",
    "print(device_lib.list_local_devices())"
   ]
  },
  {
   "cell_type": "code",
   "execution_count": 3,
   "metadata": {},
   "outputs": [
    {
     "data": {
      "text/plain": [
       "['/job:localhost/replica:0/task:0/device:GPU:0']"
      ]
     },
     "execution_count": 3,
     "metadata": {},
     "output_type": "execute_result"
    }
   ],
   "source": [
    "from  keras.models import Sequential\n",
    "import keras.backend as K\n",
    "from keras.layers import Dense, Activation\n",
    "import pandas as pd\n",
    "import numpy as np\n",
    "K.tensorflow_backend._get_available_gpus()"
   ]
  },
  {
   "cell_type": "code",
   "execution_count": 13,
   "metadata": {},
   "outputs": [],
   "source": [
    "model = Sequential()\n",
    "model.add(Dense(15, activation ='relu', input_dim = 100))\n",
    "model.add(Dense(1, activation = 'sigmoid'))"
   ]
  },
  {
   "cell_type": "code",
   "execution_count": 15,
   "metadata": {},
   "outputs": [],
   "source": [
    "model.compile(optimizer = 'rmsprop', loss = 'binary_crossentropy', metrics = ['accuracy'])"
   ]
  },
  {
   "cell_type": "code",
   "execution_count": 16,
   "metadata": {},
   "outputs": [],
   "source": [
    "data = np.random.random((1000,100))\n",
    "labels = np.random.randint(2, size =(1000,1))"
   ]
  },
  {
   "cell_type": "code",
   "execution_count": 17,
   "metadata": {},
   "outputs": [
    {
     "name": "stdout",
     "output_type": "stream",
     "text": [
      "Epoch 1/50\n",
      "1000/1000 [==============================] - 1s 535us/step - loss: 0.7227 - acc: 0.5160\n",
      "Epoch 2/50\n",
      "1000/1000 [==============================] - 0s 145us/step - loss: 0.7158 - acc: 0.5250\n",
      "Epoch 3/50\n",
      "1000/1000 [==============================] - 0s 146us/step - loss: 0.7095 - acc: 0.5100\n",
      "Epoch 4/50\n",
      "1000/1000 [==============================] - 0s 146us/step - loss: 0.7016 - acc: 0.5250\n",
      "Epoch 5/50\n",
      "1000/1000 [==============================] - 0s 141us/step - loss: 0.6958 - acc: 0.5450\n",
      "Epoch 6/50\n",
      "1000/1000 [==============================] - 0s 161us/step - loss: 0.6903 - acc: 0.5440\n",
      "Epoch 7/50\n",
      "1000/1000 [==============================] - 0s 143us/step - loss: 0.6872 - acc: 0.5470\n",
      "Epoch 8/50\n",
      "1000/1000 [==============================] - 0s 137us/step - loss: 0.6835 - acc: 0.5430\n",
      "Epoch 9/50\n",
      "1000/1000 [==============================] - 0s 142us/step - loss: 0.6806 - acc: 0.5550\n",
      "Epoch 10/50\n",
      "1000/1000 [==============================] - 0s 140us/step - loss: 0.6761 - acc: 0.5730\n",
      "Epoch 11/50\n",
      "1000/1000 [==============================] - 0s 143us/step - loss: 0.6752 - acc: 0.5700\n",
      "Epoch 12/50\n",
      "1000/1000 [==============================] - 0s 141us/step - loss: 0.6711 - acc: 0.5700\n",
      "Epoch 13/50\n",
      "1000/1000 [==============================] - 0s 145us/step - loss: 0.6684 - acc: 0.5760\n",
      "Epoch 14/50\n",
      "1000/1000 [==============================] - 0s 160us/step - loss: 0.6664 - acc: 0.5750\n",
      "Epoch 15/50\n",
      "1000/1000 [==============================] - 0s 145us/step - loss: 0.6622 - acc: 0.5950\n",
      "Epoch 16/50\n",
      "1000/1000 [==============================] - 0s 145us/step - loss: 0.6588 - acc: 0.6000\n",
      "Epoch 17/50\n",
      "1000/1000 [==============================] - 0s 142us/step - loss: 0.6565 - acc: 0.5850\n",
      "Epoch 18/50\n",
      "1000/1000 [==============================] - 0s 142us/step - loss: 0.6538 - acc: 0.6020\n",
      "Epoch 19/50\n",
      "1000/1000 [==============================] - 0s 151us/step - loss: 0.6526 - acc: 0.6030\n",
      "Epoch 20/50\n",
      "1000/1000 [==============================] - 0s 139us/step - loss: 0.6504 - acc: 0.6140\n",
      "Epoch 21/50\n",
      "1000/1000 [==============================] - 0s 144us/step - loss: 0.6451 - acc: 0.6170\n",
      "Epoch 22/50\n",
      "1000/1000 [==============================] - 0s 147us/step - loss: 0.6438 - acc: 0.6210\n",
      "Epoch 23/50\n",
      "1000/1000 [==============================] - 0s 149us/step - loss: 0.6463 - acc: 0.6090\n",
      "Epoch 24/50\n",
      "1000/1000 [==============================] - 0s 148us/step - loss: 0.6390 - acc: 0.6200\n",
      "Epoch 25/50\n",
      "1000/1000 [==============================] - 0s 147us/step - loss: 0.6400 - acc: 0.6210\n",
      "Epoch 26/50\n",
      "1000/1000 [==============================] - 0s 153us/step - loss: 0.6357 - acc: 0.6420\n",
      "Epoch 27/50\n",
      "1000/1000 [==============================] - 0s 145us/step - loss: 0.6335 - acc: 0.6300\n",
      "Epoch 28/50\n",
      "1000/1000 [==============================] - 0s 149us/step - loss: 0.6323 - acc: 0.6450\n",
      "Epoch 29/50\n",
      "1000/1000 [==============================] - 0s 174us/step - loss: 0.6320 - acc: 0.6330\n",
      "Epoch 30/50\n",
      "1000/1000 [==============================] - 0s 150us/step - loss: 0.6263 - acc: 0.6520\n",
      "Epoch 31/50\n",
      "1000/1000 [==============================] - 0s 149us/step - loss: 0.6244 - acc: 0.6620\n",
      "Epoch 32/50\n",
      "1000/1000 [==============================] - 0s 152us/step - loss: 0.6245 - acc: 0.6500\n",
      "Epoch 33/50\n",
      "1000/1000 [==============================] - 0s 154us/step - loss: 0.6208 - acc: 0.6490\n",
      "Epoch 34/50\n",
      "1000/1000 [==============================] - 0s 152us/step - loss: 0.6181 - acc: 0.6500\n",
      "Epoch 35/50\n",
      "1000/1000 [==============================] - 0s 217us/step - loss: 0.6168 - acc: 0.6520\n",
      "Epoch 36/50\n",
      "1000/1000 [==============================] - 0s 169us/step - loss: 0.6168 - acc: 0.6540\n",
      "Epoch 37/50\n",
      "1000/1000 [==============================] - 0s 138us/step - loss: 0.6131 - acc: 0.6540\n",
      "Epoch 38/50\n",
      "1000/1000 [==============================] - 0s 161us/step - loss: 0.6101 - acc: 0.6570\n",
      "Epoch 39/50\n",
      "1000/1000 [==============================] - 0s 149us/step - loss: 0.6083 - acc: 0.6520\n",
      "Epoch 40/50\n",
      "1000/1000 [==============================] - 0s 147us/step - loss: 0.6088 - acc: 0.6520\n",
      "Epoch 41/50\n",
      "1000/1000 [==============================] - 0s 196us/step - loss: 0.6056 - acc: 0.6540\n",
      "Epoch 42/50\n",
      "1000/1000 [==============================] - 0s 171us/step - loss: 0.6032 - acc: 0.6720\n",
      "Epoch 43/50\n",
      "1000/1000 [==============================] - 0s 155us/step - loss: 0.6011 - acc: 0.6720\n",
      "Epoch 44/50\n",
      "1000/1000 [==============================] - 0s 156us/step - loss: 0.5987 - acc: 0.6780\n",
      "Epoch 45/50\n",
      "1000/1000 [==============================] - 0s 195us/step - loss: 0.5956 - acc: 0.6650\n",
      "Epoch 46/50\n",
      "1000/1000 [==============================] - 0s 167us/step - loss: 0.5947 - acc: 0.6680\n",
      "Epoch 47/50\n",
      "1000/1000 [==============================] - 0s 139us/step - loss: 0.5923 - acc: 0.6720\n",
      "Epoch 48/50\n",
      "1000/1000 [==============================] - 0s 155us/step - loss: 0.5894 - acc: 0.6730\n",
      "Epoch 49/50\n",
      "1000/1000 [==============================] - 0s 151us/step - loss: 0.5849 - acc: 0.6810\n",
      "Epoch 50/50\n",
      "1000/1000 [==============================] - 0s 212us/step - loss: 0.5828 - acc: 0.6920\n"
     ]
    },
    {
     "data": {
      "text/plain": [
       "<keras.callbacks.History at 0x28a7be06b00>"
      ]
     },
     "execution_count": 17,
     "metadata": {},
     "output_type": "execute_result"
    }
   ],
   "source": [
    "model.fit(data, labels, epochs = 50 , batch_size = 32)"
   ]
  }
 ],
 "metadata": {
  "kernelspec": {
   "display_name": "Python [conda env:tensorflow]",
   "language": "python",
   "name": "conda-env-tensorflow-py"
  },
  "language_info": {
   "codemirror_mode": {
    "name": "ipython",
    "version": 3
   },
   "file_extension": ".py",
   "mimetype": "text/x-python",
   "name": "python",
   "nbconvert_exporter": "python",
   "pygments_lexer": "ipython3",
   "version": "3.5.5"
  }
 },
 "nbformat": 4,
 "nbformat_minor": 2
}
