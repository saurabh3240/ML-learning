{
 "cells": [
  {
   "cell_type": "markdown",
   "metadata": {},
   "source": [
    "# First Sequential model with keras"
   ]
  },
  {
   "cell_type": "code",
   "execution_count": 2,
   "metadata": {},
   "outputs": [
    {
     "name": "stdout",
     "output_type": "stream",
     "text": [
      "[name: \"/device:CPU:0\"\n",
      "device_type: \"CPU\"\n",
      "memory_limit: 268435456\n",
      "locality {\n",
      "}\n",
      "incarnation: 17161826379925640178\n",
      ", name: \"/device:GPU:0\"\n",
      "device_type: \"GPU\"\n",
      "memory_limit: 3222287155\n",
      "locality {\n",
      "  bus_id: 1\n",
      "  links {\n",
      "  }\n",
      "}\n",
      "incarnation: 4744199310505931538\n",
      "physical_device_desc: \"device: 0, name: GeForce 840M, pci bus id: 0000:03:00.0, compute capability: 5.0\"\n",
      "]\n"
     ]
    }
   ],
   "source": [
    "from tensorflow.python.client import device_lib\n",
    "print(device_lib.list_local_devices())"
   ]
  },
  {
   "cell_type": "code",
   "execution_count": 1,
   "metadata": {},
   "outputs": [
    {
     "name": "stderr",
     "output_type": "stream",
     "text": [
      "C:\\Users\\Saurabh\\Anaconda3\\envs\\tensorflow\\lib\\importlib\\_bootstrap.py:222: RuntimeWarning: numpy.dtype size changed, may indicate binary incompatibility. Expected 96, got 88\n",
      "  return f(*args, **kwds)\n",
      "Using TensorFlow backend.\n"
     ]
    },
    {
     "data": {
      "text/plain": [
       "['/job:localhost/replica:0/task:0/device:GPU:0']"
      ]
     },
     "execution_count": 1,
     "metadata": {},
     "output_type": "execute_result"
    }
   ],
   "source": [
    "from  keras.models import Sequential\n",
    "import keras.backend as K\n",
    "from keras.layers import Dense, Activation\n",
    "import pandas as pd\n",
    "import numpy as np\n",
    "K.tensorflow_backend._get_available_gpus()"
   ]
  },
  {
   "cell_type": "code",
   "execution_count": 3,
   "metadata": {},
   "outputs": [],
   "source": [
    "model = Sequential()\n",
    "model.add(Dense(32, activation ='relu', input_dim = 100))\n",
    "model.add(Dense(1, activation = 'sigmoid'))"
   ]
  },
  {
   "cell_type": "code",
   "execution_count": 4,
   "metadata": {},
   "outputs": [],
   "source": [
    "model.compile(optimizer = 'rmsprop', loss = 'binary_crossentropy', metrics = ['accuracy'])"
   ]
  },
  {
   "cell_type": "code",
   "execution_count": 5,
   "metadata": {},
   "outputs": [],
   "source": [
    "data = np.random.random((1000,100))\n",
    "labels = np.random.randint(2, size =(1000,1))"
   ]
  },
  {
   "cell_type": "code",
   "execution_count": 6,
   "metadata": {},
   "outputs": [
    {
     "name": "stdout",
     "output_type": "stream",
     "text": [
      "Epoch 1/10\n",
      "1000/1000 [==============================] - 10s 10ms/step - loss: 0.7072 - acc: 0.5040\n",
      "Epoch 2/10\n",
      "1000/1000 [==============================] - 1s 641us/step - loss: 0.6960 - acc: 0.5310\n",
      "Epoch 3/10\n",
      "1000/1000 [==============================] - 0s 438us/step - loss: 0.6921 - acc: 0.5260\n",
      "Epoch 4/10\n",
      "1000/1000 [==============================] - 0s 377us/step - loss: 0.6860 - acc: 0.5450\n",
      "Epoch 5/10\n",
      "1000/1000 [==============================] - 0s 414us/step - loss: 0.6824 - acc: 0.5670\n",
      "Epoch 6/10\n",
      "1000/1000 [==============================] - 1s 534us/step - loss: 0.6789 - acc: 0.5640 0s - loss: 0.6917 - acc: \n",
      "Epoch 7/10\n",
      "1000/1000 [==============================] - 0s 295us/step - loss: 0.6769 - acc: 0.5670\n",
      "Epoch 8/10\n",
      "1000/1000 [==============================] - 0s 318us/step - loss: 0.6705 - acc: 0.5940\n",
      "Epoch 9/10\n",
      "1000/1000 [==============================] - 0s 342us/step - loss: 0.6693 - acc: 0.5940\n",
      "Epoch 10/10\n",
      "1000/1000 [==============================] - 0s 440us/step - loss: 0.6661 - acc: 0.5940 0s - loss: 0.6670 - acc: 0.6\n"
     ]
    },
    {
     "data": {
      "text/plain": [
       "<keras.callbacks.History at 0x21a98cd4b70>"
      ]
     },
     "execution_count": 6,
     "metadata": {},
     "output_type": "execute_result"
    }
   ],
   "source": [
    "model.fit(data, labels, epochs = 10 , batch_size = 32)"
   ]
  }
 ],
 "metadata": {
  "kernelspec": {
   "display_name": "Python [conda env:tensorflow]",
   "language": "python",
   "name": "conda-env-tensorflow-py"
  },
  "language_info": {
   "codemirror_mode": {
    "name": "ipython",
    "version": 3
   },
   "file_extension": ".py",
   "mimetype": "text/x-python",
   "name": "python",
   "nbconvert_exporter": "python",
   "pygments_lexer": "ipython3",
   "version": "3.5.5"
  }
 },
 "nbformat": 4,
 "nbformat_minor": 2
}
