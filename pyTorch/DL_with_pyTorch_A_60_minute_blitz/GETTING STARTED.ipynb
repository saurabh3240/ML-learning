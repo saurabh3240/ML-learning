{
 "cells": [
  {
   "cell_type": "code",
   "execution_count": 1,
   "metadata": {},
   "outputs": [],
   "source": [
    "from __future__ import print_function\n",
    "import torch\n"
   ]
  },
  {
   "cell_type": "code",
   "execution_count": 2,
   "metadata": {},
   "outputs": [
    {
     "name": "stdout",
     "output_type": "stream",
     "text": [
      "tensor([[ 0.0000e+00,  0.0000e+00,  0.0000e+00],\n",
      "        [ 0.0000e+00,  0.0000e+00,  0.0000e+00],\n",
      "        [ 0.0000e+00,  0.0000e+00,  0.0000e+00],\n",
      "        [ 0.0000e+00,  1.7096e-42,  0.0000e+00],\n",
      "        [ 0.0000e+00,  6.7131e+22,  0.0000e+00]])\n"
     ]
    }
   ],
   "source": [
    "x = torch.empty(5, 3)\n",
    "print(x)"
   ]
  },
  {
   "cell_type": "code",
   "execution_count": 3,
   "metadata": {},
   "outputs": [
    {
     "name": "stdout",
     "output_type": "stream",
     "text": [
      "tensor([[ 0.7595,  0.6016,  0.8782],\n",
      "        [ 0.5782,  0.6500,  0.8668],\n",
      "        [ 0.0991,  0.8795,  0.0244],\n",
      "        [ 0.5168,  0.1867,  0.3347],\n",
      "        [ 0.0951,  0.6331,  0.0676]])\n"
     ]
    }
   ],
   "source": [
    "x = torch.rand(5, 3)\n",
    "print(x)"
   ]
  },
  {
   "cell_type": "code",
   "execution_count": 4,
   "metadata": {},
   "outputs": [
    {
     "data": {
      "text/plain": [
       "tensor([[ 0,  0,  0],\n",
       "        [ 0,  0,  0],\n",
       "        [ 0,  0,  0],\n",
       "        [ 0,  0,  0],\n",
       "        [ 0,  0,  0]])"
      ]
     },
     "execution_count": 4,
     "metadata": {},
     "output_type": "execute_result"
    }
   ],
   "source": [
    "x = torch.zeros(5,3, dtype= torch.long)\n",
    "x"
   ]
  },
  {
   "cell_type": "code",
   "execution_count": 5,
   "metadata": {},
   "outputs": [
    {
     "data": {
      "text/plain": [
       "tensor([ 5.4000,  3.0000])"
      ]
     },
     "execution_count": 5,
     "metadata": {},
     "output_type": "execute_result"
    }
   ],
   "source": [
    "# tensor from data\n",
    "x = torch.tensor([5.4,3])\n",
    "x"
   ]
  },
  {
   "cell_type": "code",
   "execution_count": 6,
   "metadata": {},
   "outputs": [
    {
     "name": "stdout",
     "output_type": "stream",
     "text": [
      "torch.Size([2])\n"
     ]
    }
   ],
   "source": [
    "print(x.size())"
   ]
  },
  {
   "cell_type": "code",
   "execution_count": 7,
   "metadata": {},
   "outputs": [
    {
     "name": "stdout",
     "output_type": "stream",
     "text": [
      "tensor([[ 1.,  1.,  1.],\n",
      "        [ 1.,  1.,  1.],\n",
      "        [ 1.,  1.,  1.],\n",
      "        [ 1.,  1.,  1.],\n",
      "        [ 1.,  1.,  1.]], dtype=torch.float64)\n",
      "tensor([[ 0.5009,  0.9561,  0.8695],\n",
      "        [ 0.8476,  0.1461,  0.1307],\n",
      "        [ 0.0049,  0.9680,  0.6554],\n",
      "        [ 0.4728,  0.1491,  0.7985],\n",
      "        [ 0.7728,  0.2481,  0.1282]])\n"
     ]
    }
   ],
   "source": [
    "x = x.new_ones(5,3,dtype = torch.double)\n",
    "print(x)\n",
    "\n",
    "x = torch.rand_like(x,dtype = torch.float)\n",
    "print(x)"
   ]
  },
  {
   "cell_type": "markdown",
   "metadata": {},
   "source": [
    "## **torch.Size is in fact a tuple, so it supports all tuple operations.**\n",
    "\n",
    "# OPERATIONS\n",
    "\n",
    "## Addition:"
   ]
  },
  {
   "cell_type": "code",
   "execution_count": 8,
   "metadata": {
    "scrolled": true
   },
   "outputs": [
    {
     "name": "stdout",
     "output_type": "stream",
     "text": [
      "tensor([[ 0.8632,  1.6311,  1.5397],\n",
      "        [ 0.8568,  0.2618,  0.3956],\n",
      "        [ 0.2646,  1.5530,  1.1225],\n",
      "        [ 0.5092,  0.2128,  1.3652],\n",
      "        [ 1.1425,  0.8027,  0.2636]])\n",
      "tensor([[ 0.8632,  1.6311,  1.5397],\n",
      "        [ 0.8568,  0.2618,  0.3956],\n",
      "        [ 0.2646,  1.5530,  1.1225],\n",
      "        [ 0.5092,  0.2128,  1.3652],\n",
      "        [ 1.1425,  0.8027,  0.2636]])\n"
     ]
    }
   ],
   "source": [
    "y = torch.rand(5,3)\n",
    "print(x+y)\n",
    "#syntax 2\n",
    "print(torch.add(x,y))"
   ]
  },
  {
   "cell_type": "code",
   "execution_count": 9,
   "metadata": {},
   "outputs": [
    {
     "name": "stdout",
     "output_type": "stream",
     "text": [
      "tensor([[ 0.8632,  1.6311,  1.5397],\n",
      "        [ 0.8568,  0.2618,  0.3956],\n",
      "        [ 0.2646,  1.5530,  1.1225],\n",
      "        [ 0.5092,  0.2128,  1.3652],\n",
      "        [ 1.1425,  0.8027,  0.2636]])\n"
     ]
    }
   ],
   "source": [
    "result = torch.Tensor(5,3)\n",
    "torch.add(x,y,out=result)\n",
    "print(result)"
   ]
  },
  {
   "cell_type": "code",
   "execution_count": 10,
   "metadata": {},
   "outputs": [
    {
     "name": "stdout",
     "output_type": "stream",
     "text": [
      "tensor([[ 0.8632,  1.6311,  1.5397],\n",
      "        [ 0.8568,  0.2618,  0.3956],\n",
      "        [ 0.2646,  1.5530,  1.1225],\n",
      "        [ 0.5092,  0.2128,  1.3652],\n",
      "        [ 1.1425,  0.8027,  0.2636]])\n"
     ]
    }
   ],
   "source": [
    "res = x+y\n",
    "print(res)"
   ]
  },
  {
   "cell_type": "code",
   "execution_count": 11,
   "metadata": {},
   "outputs": [
    {
     "name": "stdout",
     "output_type": "stream",
     "text": [
      "tensor([[ 0.8632,  1.6311,  1.5397],\n",
      "        [ 0.8568,  0.2618,  0.3956],\n",
      "        [ 0.2646,  1.5530,  1.1225],\n",
      "        [ 0.5092,  0.2128,  1.3652],\n",
      "        [ 1.1425,  0.8027,  0.2636]])\n"
     ]
    }
   ],
   "source": [
    "# inplace addition\n",
    "y.add_(x)\n",
    "print(y)"
   ]
  },
  {
   "cell_type": "markdown",
   "metadata": {},
   "source": [
    "**Any operation that mutates a tensor in-place is post-fixed with an _. For example: x.copy_(y), x.t_(), will change x.**"
   ]
  },
  {
   "cell_type": "code",
   "execution_count": 12,
   "metadata": {},
   "outputs": [
    {
     "name": "stdout",
     "output_type": "stream",
     "text": [
      "tensor([ 0.9561,  0.1461,  0.9680,  0.1491,  0.2481])\n"
     ]
    }
   ],
   "source": [
    "print(x[:,1])"
   ]
  },
  {
   "cell_type": "markdown",
   "metadata": {},
   "source": [
    "# Resizing"
   ]
  },
  {
   "cell_type": "code",
   "execution_count": 13,
   "metadata": {},
   "outputs": [
    {
     "name": "stdout",
     "output_type": "stream",
     "text": [
      "torch.Size([4, 4]) torch.Size([16]) torch.Size([2, 8])\n"
     ]
    }
   ],
   "source": [
    "x = torch.randn(4,4)\n",
    "y = x.view(16)\n",
    "z = x.view(-1,8) # the size -1 is means it is inferred from other dimensions\n",
    "print(x.size(),y.size(),z.size())\n"
   ]
  },
  {
   "cell_type": "code",
   "execution_count": 14,
   "metadata": {},
   "outputs": [
    {
     "name": "stdout",
     "output_type": "stream",
     "text": [
      "tensor([ 0.8411])\n",
      "0.8411468863487244\n"
     ]
    }
   ],
   "source": [
    "# if we have one element tensor use .item() to get the value as python number\n",
    "x = torch.randn(1)\n",
    "print(x)\n",
    "print(x.item())"
   ]
  },
  {
   "cell_type": "markdown",
   "metadata": {},
   "source": [
    "# NumPy Bridge"
   ]
  },
  {
   "cell_type": "code",
   "execution_count": 15,
   "metadata": {},
   "outputs": [
    {
     "name": "stdout",
     "output_type": "stream",
     "text": [
      "tensor([ 1.,  1.,  1.,  1.,  1.])\n"
     ]
    }
   ],
   "source": [
    "# converting a torch tensor to Numpy Array or vice versoa\n",
    "\n",
    "a = torch.ones(5)\n",
    "print(a)\n"
   ]
  },
  {
   "cell_type": "code",
   "execution_count": 16,
   "metadata": {},
   "outputs": [
    {
     "name": "stdout",
     "output_type": "stream",
     "text": [
      "[1. 1. 1. 1. 1.]\n"
     ]
    }
   ],
   "source": [
    "b = a.numpy() # does not creat a deep copy \n",
    "print(b)"
   ]
  },
  {
   "cell_type": "markdown",
   "metadata": {},
   "source": [
    "#### see how the numpy array changed in value\n"
   ]
  },
  {
   "cell_type": "code",
   "execution_count": 17,
   "metadata": {},
   "outputs": [
    {
     "name": "stdout",
     "output_type": "stream",
     "text": [
      "tensor([ 2.,  2.,  2.,  2.,  2.])\n",
      "[2. 2. 2. 2. 2.]\n"
     ]
    }
   ],
   "source": [
    "a.add_(1)\n",
    "print(a)\n",
    "print(b)"
   ]
  },
  {
   "cell_type": "markdown",
   "metadata": {},
   "source": [
    "## Converting Numpy Array to torch tensor"
   ]
  },
  {
   "cell_type": "code",
   "execution_count": 18,
   "metadata": {},
   "outputs": [
    {
     "name": "stdout",
     "output_type": "stream",
     "text": [
      "[2. 2. 2. 2. 2.]\n",
      "tensor([ 2.,  2.,  2.,  2.,  2.], dtype=torch.float64)\n"
     ]
    }
   ],
   "source": [
    "import numpy as np\n",
    "a = np.ones(5)\n",
    "b = torch.from_numpy(a)\n",
    "np.add(a,1,out=a)\n",
    "print(a)\n",
    "print(b)"
   ]
  },
  {
   "cell_type": "code",
   "execution_count": 20,
   "metadata": {},
   "outputs": [
    {
     "name": "stdout",
     "output_type": "stream",
     "text": [
      "tensor([[ 9.1678e-01,  8.8360e-01,  2.6719e+00,  ...,  1.3667e+00,\n",
      "         -1.9552e-01,  1.7211e+00],\n",
      "        [ 8.0886e-01,  1.2551e+00,  2.2363e+00,  ...,  1.1818e-01,\n",
      "          2.0135e+00,  1.8479e+00],\n",
      "        [ 1.9555e+00,  1.1531e+00,  1.3150e+00,  ...,  3.4733e-01,\n",
      "          3.6839e-01,  6.8990e-01],\n",
      "        ...,\n",
      "        [ 2.9932e-01,  8.0197e-01,  4.6812e-01,  ...,  4.8632e-01,\n",
      "         -4.1090e-01,  2.1019e+00],\n",
      "        [ 1.7009e+00,  3.5408e+00,  8.1334e-01,  ...,  2.5536e+00,\n",
      "          1.1481e+00,  1.5949e+00],\n",
      "        [ 7.6551e-01,  5.4000e-01,  2.0742e+00,  ...,  1.3310e+00,\n",
      "         -2.8008e-01,  6.8970e-01]], device='cuda:0')\n",
      "tensor([[ 9.1678e-01,  8.8360e-01,  2.6719e+00,  ...,  1.3667e+00,\n",
      "         -1.9552e-01,  1.7211e+00],\n",
      "        [ 8.0886e-01,  1.2551e+00,  2.2363e+00,  ...,  1.1818e-01,\n",
      "          2.0135e+00,  1.8479e+00],\n",
      "        [ 1.9555e+00,  1.1531e+00,  1.3150e+00,  ...,  3.4733e-01,\n",
      "          3.6839e-01,  6.8990e-01],\n",
      "        ...,\n",
      "        [ 2.9932e-01,  8.0197e-01,  4.6812e-01,  ...,  4.8632e-01,\n",
      "         -4.1090e-01,  2.1019e+00],\n",
      "        [ 1.7009e+00,  3.5408e+00,  8.1334e-01,  ...,  2.5536e+00,\n",
      "          1.1481e+00,  1.5949e+00],\n",
      "        [ 7.6551e-01,  5.4000e-01,  2.0742e+00,  ...,  1.3310e+00,\n",
      "         -2.8008e-01,  6.8970e-01]], dtype=torch.float64)\n"
     ]
    }
   ],
   "source": [
    "x = torch.randn(4000,4000,dtype=torch.float)\n",
    "if torch.cuda.is_available():\n",
    "    device = torch.device(\"cuda\")\n",
    "    y = torch.ones_like(x, device = device)\n",
    "    x = x.to(device)\n",
    "    z = x+y\n",
    "    print(z)\n",
    "    print(z.to(\"cpu\",torch.double))\n"
   ]
  }
 ],
 "metadata": {
  "kernelspec": {
   "display_name": "Python [conda env:DEEP]",
   "language": "python",
   "name": "conda-env-DEEP-py"
  },
  "language_info": {
   "codemirror_mode": {
    "name": "ipython",
    "version": 3
   },
   "file_extension": ".py",
   "mimetype": "text/x-python",
   "name": "python",
   "nbconvert_exporter": "python",
   "pygments_lexer": "ipython3",
   "version": "3.6.6"
  }
 },
 "nbformat": 4,
 "nbformat_minor": 2
}
